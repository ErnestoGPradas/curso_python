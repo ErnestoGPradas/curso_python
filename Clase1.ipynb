{
  "nbformat": 4,
  "nbformat_minor": 0,
  "metadata": {
    "colab": {
      "provenance": []
    },
    "kernelspec": {
      "name": "python3",
      "display_name": "Python 3"
    },
    "language_info": {
      "name": "python"
    }
  },
  "cells": [
    {
      "cell_type": "markdown",
      "source": [
        "## Índice\n",
        "\n",
        "## Introducción a Python\n",
        "- ¿Qué es Python?\n",
        "- Historia y uso de Python.\n",
        "- Instalación de Python y entornos de desarrollo.\n",
        "\n",
        "## Conceptos Básicos\n",
        "- Imprimir en pantalla (`print()`).\n",
        "- Comentarios.\n",
        "- Variables y tipos de datos básicos:\n",
        "  - Enteros (`int`).\n",
        "  - Flotantes (`float`).\n",
        "  - Cadenas de caracteres (`str`).\n",
        "  - Booleanos (`bool`).\n",
        "\n",
        "## Operadores\n",
        "- Aritméticos (+, -, *, /, //, %).\n",
        "- Comparación (==, !=, <, >, <=, >=).\n",
        "- Lógicos (and, or, not).\n",
        "\n",
        "## Condicionales\n",
        "- Declaraciones if, elif y else.\n",
        "- Ejemplos prácticos de uso de condicionales.\n",
        "\n",
        "## Bucles\n",
        "- Bucle while.\n",
        "- Bucle for.\n",
        "- Uso de bucles en la vida cotidiana.\n",
        "\n",
        "## Colecciones de Datos\n",
        "- Listas.\n",
        "- Tuplas.\n",
        "- Diccionarios.\n",
        "- Conjuntos.\n",
        "\n",
        "## Funciones\n",
        "- Definición de funciones.\n",
        "- Parámetros y argumentos.\n",
        "- Retorno de valores.\n",
        "- Alcance de variables (scope).\n",
        "\n",
        "\n"
      ],
      "metadata": {
        "id": "9ZBcwabnW9lQ"
      }
    },
    {
      "cell_type": "markdown",
      "source": [
        "## 1. Introducción a Python\n",
        "### 1.1 ¿Qué es Python?\n",
        "Python es un lenguaje de programación de alto nivel, interpretado y de propósito general. Fue creado por Guido van Rossum y lanzado por primera vez en 1991. Una de las características distintivas de Python es su sintaxis clara y legible, lo que lo hace ideal para principiantes y profesionales por igual.\n",
        "\n",
        "### 1.2 Historia y uso de Python\n",
        "Guido van Rossum comenzó a trabajar en Python en los 80s y la primera versión pública, Python 0.9.0, fue lanzada en 1991. Desde entonces, Python ha experimentado un crecimiento constante y se ha convertido en uno de los lenguajes de programación más populares del mundo.\n",
        "\n",
        "Python se utiliza en una amplia variedad de aplicaciones, incluyendo desarrollo web, análisis de datos, inteligencia artificial, automatización de tareas, desarrollo de juegos y más. Su versatilidad y facilidad de aprendizaje lo hacen ideal para una variedad de proyectos.\n",
        "\n",
        "### 1.3 Instalación de Python y entornos de desarrollo\n",
        "#### 1.3.1 Instalación:\n",
        "Python se puede descargar e instalar de forma gratuita desde el sitio web oficial de Python (https://www.python.org/).\n",
        "Durante la instalación, asegúrate de marcar la opción para agregar Python al PATH del sistema (esto facilitará ejecutar Python desde la línea de comandos).\n",
        "#### 1.3.2 Entornos de Desarrollo (IDEs):\n",
        "Hay varios entornos de desarrollo integrados disponibles para Python, como PyCharm, Visual Studio Code, Jupyter Notebook, entre otros.\n",
        "Estos entornos proporcionan características adicionales, como resaltado de sintaxis, depuración, autocompletado y administración de proyectos, que pueden ser útiles a medida que te familiarizas más con Python.\n",
        "#### 1.3.3 Trabajando con Python en Linux:\n",
        "Python está preinstalado en la mayoría de las distribuciones de Linux. Puedes abrir una terminal y ejecutar el intérprete de Python escribiendo python o python3.\n",
        "Además del intérprete estándar de Python, puedes instalar herramientas adicionales como pip (administrador de paquetes de Python) y virtualenv (para crear entornos virtuales) para gestionar tus proyectos de Python de manera más efectiva en Linux."
      ],
      "metadata": {
        "id": "fkVlgw-2Vceq"
      }
    },
    {
      "cell_type": "markdown",
      "source": [
        "##2. Conceptos Básicos de Python\n",
        "En esta sección, exploraremos los elementos fundamentales de Python que forman la base de cualquier programa.\n",
        "\n",
        "###2.1 Imprimir en Pantalla\n",
        "Para mostrar información en la pantalla, utilizamos la función print(). Esta función toma como argumento el valor que queremos mostrar. Por ejemplo:"
      ],
      "metadata": {
        "id": "BWXsyQIbW7cv"
      }
    },
    {
      "cell_type": "code",
      "source": [
        "print(\"¡Hola, mundo!\")"
      ],
      "metadata": {
        "colab": {
          "base_uri": "https://localhost:8080/"
        },
        "id": "KNblaXnEXTcu",
        "outputId": "7ad072c1-6bd9-49cb-9bee-434d64e5d723"
      },
      "execution_count": 1,
      "outputs": [
        {
          "output_type": "stream",
          "name": "stdout",
          "text": [
            "¡Hola, mundo!\n"
          ]
        }
      ]
    },
    {
      "cell_type": "markdown",
      "source": [
        "Este código imprimirá \"¡Hola, mundo!\" en la pantalla.\n",
        "\n",
        "###2.2 Comentarios\n",
        "Los comentarios son texto que el intérprete de Python ignora al ejecutar el código. Se utilizan para hacer notas o explicaciones dentro del código. Los comentarios en Python comienzan con el símbolo #. Por ejemplo:"
      ],
      "metadata": {
        "id": "uQfig-nJXXW0"
      }
    },
    {
      "cell_type": "code",
      "source": [
        "# Este es un comentario\n",
        "print(\"Esto se imprimirá en pantalla\")  # Este también es un comentario"
      ],
      "metadata": {
        "colab": {
          "base_uri": "https://localhost:8080/"
        },
        "id": "nqLxX-07XdHx",
        "outputId": "8429b143-5da8-4f1d-dcd8-1c451d3396dd"
      },
      "execution_count": 2,
      "outputs": [
        {
          "output_type": "stream",
          "name": "stdout",
          "text": [
            "Esto se imprimirá en pantalla\n"
          ]
        }
      ]
    },
    {
      "cell_type": "markdown",
      "source": [
        "###2.3 Variables y Tipos de Datos Básicos\n",
        "Las variables son contenedores que almacenan datos. En Python, no es necesario declarar el tipo de variable, ya que Python es un lenguaje de tipado dinámico.\n",
        "\n",
        "- Enteros (int): Representan números enteros, por ejemplo: x = 10.\n",
        "- Flotantes (float): Representan números decimales, por ejemplo: y = 3.14.\n",
        "- Cadenas de Caracteres (str): Representan texto, se pueden definir utilizando - comillas simples o dobles, por ejemplo: nombre = \"Juan\".\n",
        "- Booleanos (bool): Representan valores de verdad, es decir, True o False.\n",
        "\n",
        "###2.4 Operadores\n",
        "Los operadores se utilizan para realizar operaciones en Python.\n",
        "\n",
        "- Aritméticos: Se utilizan para realizar operaciones matemáticas, como suma (+), resta (-), multiplicación (*), división (/), entre otros.\n",
        "- Comparación: Se utilizan para comparar dos valores, como igualdad (==), desigualdad (!=), menor que (<), mayor que (>), entre otros.\n",
        "- Lógicos: Se utilizan para combinar expresiones booleanas, como and, or y not.\n",
        "\n",
        "Ejemplo:"
      ],
      "metadata": {
        "id": "RWuBmbviXeXm"
      }
    },
    {
      "cell_type": "code",
      "source": [
        "x = 10\n",
        "y = 5\n",
        "print(x + y)  # Imprimirá 15\n",
        "print(x > y)  # Imprimirá True\n",
        "print(x == 10 and y < 3)  # Imprimirá False\n"
      ],
      "metadata": {
        "id": "7245-3qoXuQ8"
      },
      "execution_count": null,
      "outputs": []
    },
    {
      "cell_type": "markdown",
      "source": [
        "Estos son los conceptos básicos que necesitas comprender para empezar a programar en Python. En la siguiente sección, exploraremos cómo utilizar condicionales para tomar decisiones en nuestros programas."
      ],
      "metadata": {
        "id": "WniiUgnmX-L8"
      }
    },
    {
      "cell_type": "markdown",
      "source": [
        "##3. Operadores\n",
        "Los operadores son símbolos especiales que permiten realizar operaciones en Python. Vamos a explorar los operadores aritméticos, de comparación y lógicos.\n",
        "\n",
        "###3.1 Aritméticos\n",
        "Los operadores aritméticos se utilizan para realizar operaciones matemáticas en Python.\n",
        "\n",
        "- Suma (+): Se utiliza para sumar dos valores.\n"
      ],
      "metadata": {
        "id": "fUsx70gZYgl-"
      }
    },
    {
      "cell_type": "code",
      "source": [
        "resultado = 10 + 5\n",
        "print(resultado)  # Imprimirá 15"
      ],
      "metadata": {
        "id": "oHrBn_M0YveR"
      },
      "execution_count": null,
      "outputs": []
    },
    {
      "cell_type": "markdown",
      "source": [
        "- Resta (-): Se utiliza para restar el segundo valor del primero."
      ],
      "metadata": {
        "id": "IEfMHb8LYxWR"
      }
    },
    {
      "cell_type": "code",
      "source": [
        "resultado = 10 - 5\n",
        "print(resultado)  # Imprimirá 5"
      ],
      "metadata": {
        "id": "rq7zVswMY1Jz"
      },
      "execution_count": null,
      "outputs": []
    },
    {
      "cell_type": "markdown",
      "source": [
        "- Multiplicación (*): Se utiliza para multiplicar dos valores."
      ],
      "metadata": {
        "id": "E6B6Mm00Y5VS"
      }
    },
    {
      "cell_type": "code",
      "source": [
        "resultado = 10 * 5\n",
        "print(resultado)  # Imprimirá 50"
      ],
      "metadata": {
        "id": "ACTZdmD9Y8_v"
      },
      "execution_count": null,
      "outputs": []
    },
    {
      "cell_type": "markdown",
      "source": [
        "- División (/): Se utiliza para dividir el primer valor por el segundo."
      ],
      "metadata": {
        "id": "FkTo7fbiZAgk"
      }
    },
    {
      "cell_type": "code",
      "source": [
        "resultado = 10 / 5\n",
        "print(resultado)  # Imprimirá 2.0"
      ],
      "metadata": {
        "id": "lx2IyK08ZDNs"
      },
      "execution_count": null,
      "outputs": []
    },
    {
      "cell_type": "markdown",
      "source": [
        "- División Entera (//): Devuelve la parte entera de la división."
      ],
      "metadata": {
        "id": "H1pDo862ZFjv"
      }
    },
    {
      "cell_type": "code",
      "source": [
        "resultado = 10 // 3\n",
        "print(resultado)  # Imprimirá 3"
      ],
      "metadata": {
        "id": "boc_7eRVZJ9S"
      },
      "execution_count": null,
      "outputs": []
    },
    {
      "cell_type": "markdown",
      "source": [
        "- Módulo (%): Devuelve el resto de la división."
      ],
      "metadata": {
        "id": "t92KCUMNZMSW"
      }
    },
    {
      "cell_type": "code",
      "source": [
        "resultado = 10 % 3\n",
        "print(resultado)  # Imprimirá 1"
      ],
      "metadata": {
        "id": "BUa6cETDZORw"
      },
      "execution_count": null,
      "outputs": []
    },
    {
      "cell_type": "markdown",
      "source": [
        "###3.2 Comparación\n",
        "Los operadores de comparación se utilizan para comparar dos valores y devuelven un valor booleano (True o False).\n",
        "\n",
        "- Igualdad (==): Comprueba si dos valores son iguales."
      ],
      "metadata": {
        "id": "t8t4eDWDZUdK"
      }
    },
    {
      "cell_type": "code",
      "source": [
        "resultado = (10 == 5)\n",
        "print(resultado)  # Imprimirá False"
      ],
      "metadata": {
        "id": "QxV75ye2ZZ-V"
      },
      "execution_count": null,
      "outputs": []
    },
    {
      "cell_type": "markdown",
      "source": [
        "- Desigualdad (!=): Comprueba si dos valores son diferentes."
      ],
      "metadata": {
        "id": "VbvM6gkjZcyN"
      }
    },
    {
      "cell_type": "code",
      "source": [
        "resultado = (10 != 5)\n",
        "print(resultado)  # Imprimirá True"
      ],
      "metadata": {
        "id": "0ldmGOEBZcfz"
      },
      "execution_count": null,
      "outputs": []
    },
    {
      "cell_type": "markdown",
      "source": [
        "- Menor que (<): Comprueba si el primer valor es menor que el segundo."
      ],
      "metadata": {
        "id": "Q7GamBVuZi2a"
      }
    },
    {
      "cell_type": "code",
      "source": [
        "resultado = (10 < 5)\n",
        "print(resultado)  # Imprimirá False"
      ],
      "metadata": {
        "id": "XW0oV9HkZiVP"
      },
      "execution_count": null,
      "outputs": []
    },
    {
      "cell_type": "markdown",
      "source": [
        "- Mayor que (>): Comprueba si el primer valor es mayor que el segundo."
      ],
      "metadata": {
        "id": "dm_TOtmpZiK8"
      }
    },
    {
      "cell_type": "code",
      "source": [
        "resultado = (10 > 5)\n",
        "print(resultado)  # Imprimirá True"
      ],
      "metadata": {
        "id": "Nz5ocAoQZrv7"
      },
      "execution_count": null,
      "outputs": []
    },
    {
      "cell_type": "markdown",
      "source": [
        "- Menor o igual que (<=): Comprueba si el primer valor es menor o igual que el segundo."
      ],
      "metadata": {
        "id": "kQ4kk65XZwub"
      }
    },
    {
      "cell_type": "code",
      "source": [
        "resultado = (10 <= 5)\n",
        "print(resultado)  # Imprimirá False"
      ],
      "metadata": {
        "id": "MzGdIjivZwbF"
      },
      "execution_count": null,
      "outputs": []
    },
    {
      "cell_type": "markdown",
      "source": [
        "- Mayor o igual que (>=): Comprueba si el primer valor es mayor o igual que el segundo."
      ],
      "metadata": {
        "id": "-Ksz5g76ZwDG"
      }
    },
    {
      "cell_type": "code",
      "source": [
        "resultado = (10 >= 5)\n",
        "print(resultado)  # Imprimirá True"
      ],
      "metadata": {
        "id": "Y1Im-DMBZ4cT"
      },
      "execution_count": null,
      "outputs": []
    },
    {
      "cell_type": "markdown",
      "source": [
        "###3.3 Lógicos\n",
        "Los operadores lógicos se utilizan para combinar expresiones booleanas y devuelven un valor booleano.\n",
        "\n",
        "- and: Devuelve True si ambas expresiones son verdaderas."
      ],
      "metadata": {
        "id": "JN_PW7DdZ_5-"
      }
    },
    {
      "cell_type": "code",
      "source": [
        "resultado = (True and False)\n",
        "print(resultado)  # Imprimirá False"
      ],
      "metadata": {
        "id": "mVhoRXGmaEgH"
      },
      "execution_count": null,
      "outputs": []
    },
    {
      "cell_type": "markdown",
      "source": [
        "- or: Devuelve True si al menos una de las expresiones es verdadera."
      ],
      "metadata": {
        "id": "Ih38c-ptaD2f"
      }
    },
    {
      "cell_type": "code",
      "source": [
        "resultado = (True or False)\n",
        "print(resultado)  # Imprimirá True"
      ],
      "metadata": {
        "id": "z7_x6LXcaJ4Z"
      },
      "execution_count": null,
      "outputs": []
    },
    {
      "cell_type": "markdown",
      "source": [
        "- not: Devuelve True si la expresión es falsa, y viceversa."
      ],
      "metadata": {
        "id": "o-rgUNX6aN0F"
      }
    },
    {
      "cell_type": "code",
      "source": [
        "resultado = not True\n",
        "print(resultado)  # Imprimirá False"
      ],
      "metadata": {
        "id": "hLRWmCW1aPGY"
      },
      "execution_count": null,
      "outputs": []
    },
    {
      "cell_type": "markdown",
      "source": [
        "####Complementación a operadores lógicos\n",
        "Si realizamos todas las combinaciones posibles, el resultado sería:"
      ],
      "metadata": {
        "id": "q_2O1_gjan1V"
      }
    },
    {
      "cell_type": "code",
      "source": [
        "# Operador AND\n",
        "print(\"Operador AND:\")\n",
        "print(True and True)    # True\n",
        "print(True and False)   # False\n",
        "print(False and True)   # False\n",
        "print(False and False)  # False\n",
        "\n",
        "# Operador OR\n",
        "print(\"\\nOperador OR:\")\n",
        "print(True or True)     # True\n",
        "print(True or False)    # True\n",
        "print(False or True)    # True\n",
        "print(False or False)   # False\n",
        "\n",
        "# Operador NOT\n",
        "print(\"\\nOperador NOT:\")\n",
        "print(not True)         # False\n",
        "print(not False)        # True\n"
      ],
      "metadata": {
        "id": "ZztaiMT7a2ZC"
      },
      "execution_count": null,
      "outputs": []
    },
    {
      "cell_type": "markdown",
      "source": [
        "##4. Condicionales\n",
        "Los condicionales son estructuras de control que nos permiten tomar decisiones en nuestros programas basadas en ciertas condiciones. En Python, utilizamos las declaraciones if, elif y else para implementar condicionales.\n",
        "\n",
        "###4.1 Declaraciones if, elif y else\n",
        "**Declaración if**: Se utiliza para ejecutar un bloque de código si una condición es verdadera.\n",
        "**Declaración elif (else if)**: Se utiliza para agregar más condiciones después de la declaración if. Se evalúa si la condición if es falsa y la condición elif es verdadera.\n",
        "**Declaración else**: Se utiliza para ejecutar un bloque de código si ninguna de las condiciones anteriores es verdadera."
      ],
      "metadata": {
        "id": "UfaopYzCa9ij"
      }
    },
    {
      "cell_type": "code",
      "source": [
        "edad = 20\n",
        "\n",
        "if edad < 18:\n",
        "    print(\"Eres menor de edad\")\n",
        "elif edad >= 18 and edad < 65:\n",
        "    print(\"Eres mayor de edad pero aún no eres un adulto mayor\")\n",
        "else:\n",
        "    print(\"Eres un adulto mayor\")"
      ],
      "metadata": {
        "id": "K7OmG_0NbfES"
      },
      "execution_count": null,
      "outputs": []
    },
    {
      "cell_type": "markdown",
      "source": [
        "En este ejemplo:\n",
        "\n",
        "- Si la variable edad es menor que 18, se imprimirá \"Eres menor de edad\".\n",
        "- Si la variable edad es mayor o igual que 18 pero menor que 65, se imprimirá \"Eres mayor de edad pero aún no eres un adulto mayor\".\n",
        "- Si ninguna de las condiciones anteriores es verdadera, se imprimirá \"Eres un adulto mayor\".\n",
        "\n",
        "###4.2 Ejemplos Prácticos de Uso de Condicionales\n",
        "Los condicionales son útiles en situaciones en las que necesitamos que nuestro programa tome decisiones basadas en ciertas condiciones. Aquí hay un ejemplo práctico:"
      ],
      "metadata": {
        "id": "fD-SApwUbk2J"
      }
    },
    {
      "cell_type": "code",
      "source": [
        "# Comprobar si un número es par o impar\n",
        "numero = 7\n",
        "\n",
        "if numero % 2 == 0:\n",
        "    print(\"El número\", numero, \"es par\")\n",
        "else:\n",
        "    print(\"El número\", numero, \"es impar\")"
      ],
      "metadata": {
        "id": "T26VYA3SbkNp"
      },
      "execution_count": null,
      "outputs": []
    },
    {
      "cell_type": "markdown",
      "source": [
        "En este ejemplo, utilizamos el operador módulo % para verificar si el número es divisible por 2. Si el residuo es 0, el número es par; de lo contrario, es impar."
      ],
      "metadata": {
        "id": "xLXZy8A-bvy0"
      }
    },
    {
      "cell_type": "markdown",
      "source": [
        "#Ejercicios propuestos de este bloque\n",
        "\n",
        "A continuación, se proponen una serie de ejercicios para afianzar los conceptos adquiridos:\n",
        "\n",
        "1. **Calculadora Simple**: Crea un programa que solicite al usuario dos números y una operación aritmética (+, -, *, /) y luego muestre el resultado de la operación.\n",
        "2. **Clasificador de Edad**: Escribe un programa que pida al usuario su edad y luego le diga si es menor de edad, adulto o adulto mayor.\n",
        "3. **Identificador de Número Par o Impar**: Crea un programa que solicite al usuario un número y luego determine si es par o impar.\n",
        "4. **Convertidor de Grados Celsius a Fahrenheit**: Escribe un programa que convierta una temperatura en grados Celsius a grados Fahrenheit. La fórmula es: Fahrenheit = Celsius * 9/5 + 32.\n",
        "5. **Calculadora de Índice de Masa Corporal (IMC)**: Crea un programa que pida al usuario su peso (en kilogramos) y su altura (en metros), y luego calcule su IMC usando la fórmula: IMC = peso / (altura * altura).\n",
        "6. **Comprobador de Año Bisiesto**: Escribe un programa que determine si un año ingresado por el usuario es bisiesto o no. Un año es bisiesto si es divisible por 4, pero no por 100, a menos que también sea divisible por 400.\n",
        "7. **Ordenamiento de Números**: Crea un programa que solicite al usuario tres números y luego los muestre ordenados de menor a mayor.\n",
        "8. **Calculadora de Descuento**: Escribe un programa que solicite al usuario el precio de un producto y el porcentaje de descuento aplicado, y luego calcule el precio final después del descuento.\n",
        "9. **Generador de Tabla de Multiplicar**: Crea un programa que solicite al usuario un número y luego imprima su tabla de multiplicar del 1 al 10.\n",
        "10. **Adivina el Número**: Escribe un programa que genere aleatoriamente un número entre 1 y 100, y luego pida al usuario que lo adivine. El programa debería proporcionar pistas indicando si el número a adivinar es mayor o menor que el número ingresado por el usuario.\n"
      ],
      "metadata": {
        "id": "6BtIb5uzcaYR"
      }
    }
  ]
}