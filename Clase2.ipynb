{
  "nbformat": 4,
  "nbformat_minor": 0,
  "metadata": {
    "colab": {
      "provenance": []
    },
    "kernelspec": {
      "name": "python3",
      "display_name": "Python 3"
    },
    "language_info": {
      "name": "python"
    }
  },
  "cells": [
    {
      "cell_type": "markdown",
      "source": [
        "## Índice\n",
        "\n",
        "## Introducción a Python\n",
        "- ¿Qué es Python?\n",
        "- Historia y uso de Python.\n",
        "- Instalación de Python y entornos de desarrollo.\n",
        "\n",
        "## Conceptos Básicos\n",
        "- Imprimir en pantalla (`print()`).\n",
        "- Comentarios.\n",
        "- Variables y tipos de datos básicos:\n",
        "  - Enteros (`int`).\n",
        "  - Flotantes (`float`).\n",
        "  - Cadenas de caracteres (`str`).\n",
        "  - Booleanos (`bool`).\n",
        "\n",
        "## Operadores\n",
        "- Aritméticos (+, -, *, /, //, %).\n",
        "- Comparación (==, !=, <, >, <=, >=).\n",
        "- Lógicos (and, or, not).\n",
        "\n",
        "## Condicionales\n",
        "- Declaraciones if, elif y else.\n",
        "- Ejemplos prácticos de uso de condicionales.\n",
        "\n",
        "## Bucles\n",
        "- Bucle while.\n",
        "- Bucle for.\n",
        "- Uso de bucles en la vida cotidiana.\n",
        "\n",
        "## Colecciones de Datos\n",
        "- Listas.\n",
        "- Tuplas.\n",
        "- Diccionarios.\n",
        "- Conjuntos.\n",
        "\n",
        "## Funciones\n",
        "- Definición de funciones.\n",
        "- Parámetros y argumentos.\n",
        "- Retorno de valores.\n",
        "- Alcance de variables (scope).\n",
        "\n",
        "\n"
      ],
      "metadata": {
        "id": "9ZBcwabnW9lQ"
      }
    },
    {
      "cell_type": "markdown",
      "source": [
        "## 1. Introducción a Python\n",
        "### 1.1 ¿Qué es Python?\n",
        "Python es un lenguaje de programación de alto nivel, interpretado y de propósito general. Fue creado por Guido van Rossum y lanzado por primera vez en 1991. Una de las características distintivas de Python es su sintaxis clara y legible, lo que lo hace ideal para principiantes y profesionales por igual.\n",
        "\n",
        "### 1.2 Historia y uso de Python\n",
        "Guido van Rossum comenzó a trabajar en Python en los 80s y la primera versión pública, Python 0.9.0, fue lanzada en 1991. Desde entonces, Python ha experimentado un crecimiento constante y se ha convertido en uno de los lenguajes de programación más populares del mundo.\n",
        "\n",
        "Python se utiliza en una amplia variedad de aplicaciones, incluyendo desarrollo web, análisis de datos, inteligencia artificial, automatización de tareas, desarrollo de juegos y más. Su versatilidad y facilidad de aprendizaje lo hacen ideal para una variedad de proyectos.\n",
        "\n",
        "### 1.3 Instalación de Python y entornos de desarrollo\n",
        "#### 1.3.1 Instalación:\n",
        "Python se puede descargar e instalar de forma gratuita desde el sitio web oficial de Python (https://www.python.org/).\n",
        "Durante la instalación, asegúrate de marcar la opción para agregar Python al PATH del sistema (esto facilitará ejecutar Python desde la línea de comandos).\n",
        "#### 1.3.2 Entornos de Desarrollo (IDEs):\n",
        "Hay varios entornos de desarrollo integrados disponibles para Python, como PyCharm, Visual Studio Code, Jupyter Notebook, entre otros.\n",
        "Estos entornos proporcionan características adicionales, como resaltado de sintaxis, depuración, autocompletado y administración de proyectos, que pueden ser útiles a medida que te familiarizas más con Python.\n",
        "#### 1.3.3 Trabajando con Python en Linux:\n",
        "Python está preinstalado en la mayoría de las distribuciones de Linux. Puedes abrir una terminal y ejecutar el intérprete de Python escribiendo python o python3.\n",
        "Además del intérprete estándar de Python, puedes instalar herramientas adicionales como pip (administrador de paquetes de Python) y virtualenv (para crear entornos virtuales) para gestionar tus proyectos de Python de manera más efectiva en Linux."
      ],
      "metadata": {
        "id": "fkVlgw-2Vceq"
      }
    },
    {
      "cell_type": "markdown",
      "source": [
        "##2. Conceptos Básicos de Python\n",
        "En esta sección, exploraremos los elementos fundamentales de Python que forman la base de cualquier programa.\n",
        "\n",
        "###2.1 Imprimir en Pantalla\n",
        "Para mostrar información en la pantalla, utilizamos la función print(). Esta función toma como argumento el valor que queremos mostrar. Por ejemplo:"
      ],
      "metadata": {
        "id": "BWXsyQIbW7cv"
      }
    },
    {
      "cell_type": "code",
      "source": [
        "print(\"¡Hola, mundo!\")"
      ],
      "metadata": {
        "colab": {
          "base_uri": "https://localhost:8080/"
        },
        "id": "KNblaXnEXTcu",
        "outputId": "7ad072c1-6bd9-49cb-9bee-434d64e5d723"
      },
      "execution_count": null,
      "outputs": [
        {
          "output_type": "stream",
          "name": "stdout",
          "text": [
            "¡Hola, mundo!\n"
          ]
        }
      ]
    },
    {
      "cell_type": "markdown",
      "source": [
        "Este código imprimirá \"¡Hola, mundo!\" en la pantalla.\n",
        "\n",
        "###2.2 Comentarios\n",
        "Los comentarios son texto que el intérprete de Python ignora al ejecutar el código. Se utilizan para hacer notas o explicaciones dentro del código. Los comentarios en Python comienzan con el símbolo #. Por ejemplo:"
      ],
      "metadata": {
        "id": "uQfig-nJXXW0"
      }
    },
    {
      "cell_type": "code",
      "source": [
        "# Este es un comentario\n",
        "print(\"Esto se imprimirá en pantalla\")  # Este también es un comentario"
      ],
      "metadata": {
        "colab": {
          "base_uri": "https://localhost:8080/"
        },
        "id": "nqLxX-07XdHx",
        "outputId": "8429b143-5da8-4f1d-dcd8-1c451d3396dd"
      },
      "execution_count": null,
      "outputs": [
        {
          "output_type": "stream",
          "name": "stdout",
          "text": [
            "Esto se imprimirá en pantalla\n"
          ]
        }
      ]
    },
    {
      "cell_type": "markdown",
      "source": [
        "###2.3 Variables y Tipos de Datos Básicos\n",
        "Las variables son contenedores que almacenan datos. En Python, no es necesario declarar el tipo de variable, ya que Python es un lenguaje de tipado dinámico.\n",
        "\n",
        "- Enteros (int): Representan números enteros, por ejemplo: x = 10.\n",
        "- Flotantes (float): Representan números decimales, por ejemplo: y = 3.14.\n",
        "- Cadenas de Caracteres (str): Representan texto, se pueden definir utilizando - comillas simples o dobles, por ejemplo: nombre = \"Juan\".\n",
        "- Booleanos (bool): Representan valores de verdad, es decir, True o False.\n",
        "\n",
        "###2.4 Operadores\n",
        "Los operadores se utilizan para realizar operaciones en Python.\n",
        "\n",
        "- Aritméticos: Se utilizan para realizar operaciones matemáticas, como suma (+), resta (-), multiplicación (*), división (/), entre otros.\n",
        "- Comparación: Se utilizan para comparar dos valores, como igualdad (==), desigualdad (!=), menor que (<), mayor que (>), entre otros.\n",
        "- Lógicos: Se utilizan para combinar expresiones booleanas, como and, or y not.\n",
        "\n",
        "Ejemplo:"
      ],
      "metadata": {
        "id": "RWuBmbviXeXm"
      }
    },
    {
      "cell_type": "code",
      "source": [
        "x = 10\n",
        "y = 5\n",
        "print(x + y)  # Imprimirá 15\n",
        "print(x > y)  # Imprimirá True\n",
        "print(x == 10 and y < 3)  # Imprimirá False\n"
      ],
      "metadata": {
        "id": "7245-3qoXuQ8"
      },
      "execution_count": null,
      "outputs": []
    },
    {
      "cell_type": "markdown",
      "source": [
        "Estos son los conceptos básicos que necesitas comprender para empezar a programar en Python. En la siguiente sección, exploraremos cómo utilizar condicionales para tomar decisiones en nuestros programas."
      ],
      "metadata": {
        "id": "WniiUgnmX-L8"
      }
    },
    {
      "cell_type": "markdown",
      "source": [
        "##3. Operadores\n",
        "Los operadores son símbolos especiales que permiten realizar operaciones en Python. Vamos a explorar los operadores aritméticos, de comparación y lógicos.\n",
        "\n",
        "###3.1 Aritméticos\n",
        "Los operadores aritméticos se utilizan para realizar operaciones matemáticas en Python.\n",
        "\n",
        "- Suma (+): Se utiliza para sumar dos valores.\n"
      ],
      "metadata": {
        "id": "fUsx70gZYgl-"
      }
    },
    {
      "cell_type": "code",
      "source": [
        "resultado = 10 + 5\n",
        "print(resultado)  # Imprimirá 15"
      ],
      "metadata": {
        "id": "oHrBn_M0YveR"
      },
      "execution_count": null,
      "outputs": []
    },
    {
      "cell_type": "markdown",
      "source": [
        "- Resta (-): Se utiliza para restar el segundo valor del primero."
      ],
      "metadata": {
        "id": "IEfMHb8LYxWR"
      }
    },
    {
      "cell_type": "code",
      "source": [
        "resultado = 10 - 5\n",
        "print(resultado)  # Imprimirá 5"
      ],
      "metadata": {
        "id": "rq7zVswMY1Jz"
      },
      "execution_count": null,
      "outputs": []
    },
    {
      "cell_type": "markdown",
      "source": [
        "- Multiplicación (*): Se utiliza para multiplicar dos valores."
      ],
      "metadata": {
        "id": "E6B6Mm00Y5VS"
      }
    },
    {
      "cell_type": "code",
      "source": [
        "resultado = 10 * 5\n",
        "print(resultado)  # Imprimirá 50"
      ],
      "metadata": {
        "id": "ACTZdmD9Y8_v"
      },
      "execution_count": null,
      "outputs": []
    },
    {
      "cell_type": "markdown",
      "source": [
        "- División (/): Se utiliza para dividir el primer valor por el segundo."
      ],
      "metadata": {
        "id": "FkTo7fbiZAgk"
      }
    },
    {
      "cell_type": "code",
      "source": [
        "resultado = 10 / 5\n",
        "print(resultado)  # Imprimirá 2.0"
      ],
      "metadata": {
        "id": "lx2IyK08ZDNs"
      },
      "execution_count": null,
      "outputs": []
    },
    {
      "cell_type": "markdown",
      "source": [
        "- División Entera (//): Devuelve la parte entera de la división."
      ],
      "metadata": {
        "id": "H1pDo862ZFjv"
      }
    },
    {
      "cell_type": "code",
      "source": [
        "resultado = 10 // 3\n",
        "print(resultado)  # Imprimirá 3"
      ],
      "metadata": {
        "id": "boc_7eRVZJ9S"
      },
      "execution_count": null,
      "outputs": []
    },
    {
      "cell_type": "markdown",
      "source": [
        "- Módulo (%): Devuelve el resto de la división."
      ],
      "metadata": {
        "id": "t92KCUMNZMSW"
      }
    },
    {
      "cell_type": "code",
      "source": [
        "resultado = 10 % 3\n",
        "print(resultado)  # Imprimirá 1"
      ],
      "metadata": {
        "id": "BUa6cETDZORw"
      },
      "execution_count": null,
      "outputs": []
    },
    {
      "cell_type": "markdown",
      "source": [
        "###3.2 Comparación\n",
        "Los operadores de comparación se utilizan para comparar dos valores y devuelven un valor booleano (True o False).\n",
        "\n",
        "- Igualdad (==): Comprueba si dos valores son iguales."
      ],
      "metadata": {
        "id": "t8t4eDWDZUdK"
      }
    },
    {
      "cell_type": "code",
      "source": [
        "resultado = (10 == 5)\n",
        "print(resultado)  # Imprimirá False"
      ],
      "metadata": {
        "id": "QxV75ye2ZZ-V"
      },
      "execution_count": null,
      "outputs": []
    },
    {
      "cell_type": "markdown",
      "source": [
        "- Desigualdad (!=): Comprueba si dos valores son diferentes."
      ],
      "metadata": {
        "id": "VbvM6gkjZcyN"
      }
    },
    {
      "cell_type": "code",
      "source": [
        "resultado = (10 != 5)\n",
        "print(resultado)  # Imprimirá True"
      ],
      "metadata": {
        "id": "0ldmGOEBZcfz"
      },
      "execution_count": null,
      "outputs": []
    },
    {
      "cell_type": "markdown",
      "source": [
        "- Menor que (<): Comprueba si el primer valor es menor que el segundo."
      ],
      "metadata": {
        "id": "Q7GamBVuZi2a"
      }
    },
    {
      "cell_type": "code",
      "source": [
        "resultado = (10 < 5)\n",
        "print(resultado)  # Imprimirá False"
      ],
      "metadata": {
        "id": "XW0oV9HkZiVP"
      },
      "execution_count": null,
      "outputs": []
    },
    {
      "cell_type": "markdown",
      "source": [
        "- Mayor que (>): Comprueba si el primer valor es mayor que el segundo."
      ],
      "metadata": {
        "id": "dm_TOtmpZiK8"
      }
    },
    {
      "cell_type": "code",
      "source": [
        "resultado = (10 > 5)\n",
        "print(resultado)  # Imprimirá True"
      ],
      "metadata": {
        "id": "Nz5ocAoQZrv7"
      },
      "execution_count": null,
      "outputs": []
    },
    {
      "cell_type": "markdown",
      "source": [
        "- Menor o igual que (<=): Comprueba si el primer valor es menor o igual que el segundo."
      ],
      "metadata": {
        "id": "kQ4kk65XZwub"
      }
    },
    {
      "cell_type": "code",
      "source": [
        "resultado = (10 <= 5)\n",
        "print(resultado)  # Imprimirá False"
      ],
      "metadata": {
        "id": "MzGdIjivZwbF"
      },
      "execution_count": null,
      "outputs": []
    },
    {
      "cell_type": "markdown",
      "source": [
        "- Mayor o igual que (>=): Comprueba si el primer valor es mayor o igual que el segundo."
      ],
      "metadata": {
        "id": "-Ksz5g76ZwDG"
      }
    },
    {
      "cell_type": "code",
      "source": [
        "resultado = (10 >= 5)\n",
        "print(resultado)  # Imprimirá True"
      ],
      "metadata": {
        "id": "Y1Im-DMBZ4cT"
      },
      "execution_count": null,
      "outputs": []
    },
    {
      "cell_type": "markdown",
      "source": [
        "###3.3 Lógicos\n",
        "Los operadores lógicos se utilizan para combinar expresiones booleanas y devuelven un valor booleano.\n",
        "\n",
        "- and: Devuelve True si ambas expresiones son verdaderas."
      ],
      "metadata": {
        "id": "JN_PW7DdZ_5-"
      }
    },
    {
      "cell_type": "code",
      "source": [
        "resultado = (True and False)\n",
        "print(resultado)  # Imprimirá False"
      ],
      "metadata": {
        "id": "mVhoRXGmaEgH"
      },
      "execution_count": null,
      "outputs": []
    },
    {
      "cell_type": "markdown",
      "source": [
        "- or: Devuelve True si al menos una de las expresiones es verdadera."
      ],
      "metadata": {
        "id": "Ih38c-ptaD2f"
      }
    },
    {
      "cell_type": "code",
      "source": [
        "resultado = (True or False)\n",
        "print(resultado)  # Imprimirá True"
      ],
      "metadata": {
        "id": "z7_x6LXcaJ4Z"
      },
      "execution_count": null,
      "outputs": []
    },
    {
      "cell_type": "markdown",
      "source": [
        "- not: Devuelve True si la expresión es falsa, y viceversa."
      ],
      "metadata": {
        "id": "o-rgUNX6aN0F"
      }
    },
    {
      "cell_type": "code",
      "source": [
        "resultado = not True\n",
        "print(resultado)  # Imprimirá False"
      ],
      "metadata": {
        "id": "hLRWmCW1aPGY"
      },
      "execution_count": null,
      "outputs": []
    },
    {
      "cell_type": "markdown",
      "source": [
        "####Complementación a operadores lógicos\n",
        "Si realizamos todas las combinaciones posibles, el resultado sería:"
      ],
      "metadata": {
        "id": "q_2O1_gjan1V"
      }
    },
    {
      "cell_type": "code",
      "source": [
        "# Operador AND\n",
        "print(\"Operador AND:\")\n",
        "print(True and True)    # True\n",
        "print(True and False)   # False\n",
        "print(False and True)   # False\n",
        "print(False and False)  # False\n",
        "\n",
        "# Operador OR\n",
        "print(\"\\nOperador OR:\")\n",
        "print(True or True)     # True\n",
        "print(True or False)    # True\n",
        "print(False or True)    # True\n",
        "print(False or False)   # False\n",
        "\n",
        "# Operador NOT\n",
        "print(\"\\nOperador NOT:\")\n",
        "print(not True)         # False\n",
        "print(not False)        # True\n"
      ],
      "metadata": {
        "id": "ZztaiMT7a2ZC"
      },
      "execution_count": null,
      "outputs": []
    },
    {
      "cell_type": "markdown",
      "source": [
        "##4. Condicionales\n",
        "Los condicionales son estructuras de control que nos permiten tomar decisiones en nuestros programas basadas en ciertas condiciones. En Python, utilizamos las declaraciones if, elif y else para implementar condicionales.\n",
        "\n",
        "###4.1 Declaraciones if, elif y else\n",
        "**Declaración if**: Se utiliza para ejecutar un bloque de código si una condición es verdadera.\n",
        "**Declaración elif (else if)**: Se utiliza para agregar más condiciones después de la declaración if. Se evalúa si la condición if es falsa y la condición elif es verdadera.\n",
        "**Declaración else**: Se utiliza para ejecutar un bloque de código si ninguna de las condiciones anteriores es verdadera."
      ],
      "metadata": {
        "id": "UfaopYzCa9ij"
      }
    },
    {
      "cell_type": "code",
      "source": [
        "edad = 20\n",
        "\n",
        "if edad < 18:\n",
        "    print(\"Eres menor de edad\")\n",
        "elif edad >= 18 and edad < 65:\n",
        "    print(\"Eres mayor de edad pero aún no eres un adulto mayor\")\n",
        "else:\n",
        "    print(\"Eres un adulto mayor\")"
      ],
      "metadata": {
        "id": "K7OmG_0NbfES"
      },
      "execution_count": null,
      "outputs": []
    },
    {
      "cell_type": "markdown",
      "source": [
        "En este ejemplo:\n",
        "\n",
        "- Si la variable edad es menor que 18, se imprimirá \"Eres menor de edad\".\n",
        "- Si la variable edad es mayor o igual que 18 pero menor que 65, se imprimirá \"Eres mayor de edad pero aún no eres un adulto mayor\".\n",
        "- Si ninguna de las condiciones anteriores es verdadera, se imprimirá \"Eres un adulto mayor\".\n",
        "\n",
        "###4.2 Ejemplos Prácticos de Uso de Condicionales\n",
        "Los condicionales son útiles en situaciones en las que necesitamos que nuestro programa tome decisiones basadas en ciertas condiciones. Aquí hay un ejemplo práctico:"
      ],
      "metadata": {
        "id": "fD-SApwUbk2J"
      }
    },
    {
      "cell_type": "code",
      "source": [
        "# Comprobar si un número es par o impar\n",
        "numero = 7\n",
        "\n",
        "if numero % 2 == 0:\n",
        "    print(\"El número\", numero, \"es par\")\n",
        "else:\n",
        "    print(\"El número\", numero, \"es impar\")"
      ],
      "metadata": {
        "id": "T26VYA3SbkNp"
      },
      "execution_count": null,
      "outputs": []
    },
    {
      "cell_type": "markdown",
      "source": [
        "En este ejemplo, utilizamos el operador módulo % para verificar si el número es divisible por 2. Si el residuo es 0, el número es par; de lo contrario, es impar."
      ],
      "metadata": {
        "id": "xLXZy8A-bvy0"
      }
    },
    {
      "cell_type": "markdown",
      "source": [
        "#Ejercicios propuestos de este bloque\n",
        "\n",
        "A continuación, se proponen una serie de ejercicios para afianzar los conceptos adquiridos:\n",
        "\n",
        "1. **Calculadora Simple**: Crea un programa que solicite al usuario dos números y una operación aritmética (+, -, *, /) y luego muestre el resultado de la operación.\n",
        "2. **Clasificador de Edad**: Escribe un programa que pida al usuario su edad y luego le diga si es menor de edad, adulto o adulto mayor.\n",
        "3. **Identificador de Número Par o Impar**: Crea un programa que solicite al usuario un número y luego determine si es par o impar.\n",
        "4. **Convertidor de Grados Celsius a Fahrenheit**: Escribe un programa que convierta una temperatura en grados Celsius a grados Fahrenheit. La fórmula es: Fahrenheit = Celsius * 9/5 + 32.\n",
        "5. **Calculadora de Índice de Masa Corporal (IMC)**: Crea un programa que pida al usuario su peso (en kilogramos) y su altura (en metros), y luego calcule su IMC usando la fórmula: IMC = peso / (altura * altura).\n",
        "6. **Comprobador de Año Bisiesto**: Escribe un programa que determine si un año ingresado por el usuario es bisiesto o no. Un año es bisiesto si es divisible por 4, pero no por 100, a menos que también sea divisible por 400.\n",
        "7. **Ordenamiento de Números**: Crea un programa que solicite al usuario tres números y luego los muestre ordenados de menor a mayor.\n",
        "8. **Calculadora de Descuento**: Escribe un programa que solicite al usuario el precio de un producto y el porcentaje de descuento aplicado, y luego calcule el precio final después del descuento.\n",
        "9. **Generador de Tabla de Multiplicar**: Crea un programa que solicite al usuario un número y luego imprima su tabla de multiplicar del 1 al 10.\n",
        "10. **Adivina el Número**: Escribe un programa que genere aleatoriamente un número entre 1 y 100, y luego pida al usuario que lo adivine. El programa debería proporcionar pistas indicando si el número a adivinar es mayor o menor que el número ingresado por el usuario.\n"
      ],
      "metadata": {
        "id": "6BtIb5uzcaYR"
      }
    },
    {
      "cell_type": "markdown",
      "source": [
        "## 5. Bucles\n",
        "Los **bucles** son estructuras de control que nos permiten ejecutar un bloque de código repetidamente hasta que se cumpla una condición o se recorran todos los elementos de una secuencia.\n",
        "\n",
        "### 5.1 Bucle while\n",
        "El bucle *while* se utiliza cuando queremos ejecutar un bloque de código repetidamente mientras se cumpla una condición específica. Es útil cuando no sabemos de antemano cuántas veces necesitamos ejecutar el código y queremos seguir ejecutándolo hasta que se cumpla una condición de salida.\n",
        "\n",
        "Ejemplo 1: Contador hasta cierto valor"
      ],
      "metadata": {
        "id": "kjQ15g3A9M4h"
      }
    },
    {
      "cell_type": "code",
      "source": [
        "contador = 0\n",
        "while contador < 5:\n",
        "    print(\"El contador es:\", contador)\n",
        "    contador += 1"
      ],
      "metadata": {
        "id": "wVXU6PAV9lvq",
        "outputId": "3980181d-17e5-4e37-8709-a59d8bcd2e39",
        "colab": {
          "base_uri": "https://localhost:8080/"
        }
      },
      "execution_count": 1,
      "outputs": [
        {
          "output_type": "stream",
          "name": "stdout",
          "text": [
            "El contador es: 0\n",
            "El contador es: 1\n",
            "El contador es: 2\n",
            "El contador es: 3\n",
            "El contador es: 4\n"
          ]
        }
      ]
    },
    {
      "cell_type": "markdown",
      "source": [
        "En este ejemplo, el bucle while se ejecutará mientras el contador sea menor que 5. En cada iteración, se imprime el valor del contador y luego se incrementa en 1. El bucle se detiene cuando el contador alcanza o supera el valor de 5.\n",
        "\n",
        "Ejemplo 2: Adivinando un número"
      ],
      "metadata": {
        "id": "7w5RaZ3w912i"
      }
    },
    {
      "cell_type": "code",
      "source": [
        "import random\n",
        "\n",
        "numero_aleatorio = random.randint(1, 100)\n",
        "intentos = 0\n",
        "\n",
        "while True:\n",
        "    intento = int(input(\"Adivina el número (entre 1 y 100): \"))\n",
        "    intentos += 1\n",
        "    if intento == numero_aleatorio:\n",
        "        print(\"¡Felicidades! Has adivinado el número en\", intentos, \"intentos.\")\n",
        "        break\n",
        "    elif intento < numero_aleatorio:\n",
        "        print(\"El número es mayor.\")\n",
        "    else:\n",
        "        print(\"El número es menor.\")\n"
      ],
      "metadata": {
        "id": "D70F3YQC9--d",
        "outputId": "f8827520-0090-45ba-e946-96c040e3b25f",
        "colab": {
          "base_uri": "https://localhost:8080/"
        }
      },
      "execution_count": 2,
      "outputs": [
        {
          "output_type": "stream",
          "name": "stdout",
          "text": [
            "Adivina el número (entre 1 y 100): 58\n",
            "El número es menor.\n",
            "Adivina el número (entre 1 y 100): 20\n",
            "¡Felicidades! Has adivinado el número en 2 intentos.\n"
          ]
        }
      ]
    },
    {
      "cell_type": "markdown",
      "source": [
        "En este ejemplo, el bucle while se ejecuta indefinidamente (while True) hasta que el usuario adivina el número aleatorio generado. Cada vez que el usuario hace un intento, se incrementa el contador de intentos. El bucle se detiene cuando el usuario adivina el número y se utiliza break para salir del bucle."
      ],
      "metadata": {
        "id": "ZkQPKVwL-Df-"
      }
    },
    {
      "cell_type": "markdown",
      "source": [
        "### 5.2 Bucle for\n",
        "El bucle *for* (también llamado for each en otros lenguajes) se utiliza cuando queremos iterar sobre una secuencia de elementos (como una lista, tupla, diccionario, etc.) o un rango de valores.\n",
        "\n",
        "Es útil cuando sabemos de antemano cuántas veces necesitamos ejecutar el código.\n",
        "\n",
        "Este bucle será el más utilizado en nuestro día a día.\n",
        "\n",
        "Ejemplo 1: Iterando sobre una lista"
      ],
      "metadata": {
        "id": "n96ktupW-MWQ"
      }
    },
    {
      "cell_type": "code",
      "source": [
        "frutas = [\"manzana\", \"banana\", \"cereza\"]\n",
        "for fruta in frutas:\n",
        "    print(fruta)\n"
      ],
      "metadata": {
        "id": "tHj4pepI-EZZ",
        "outputId": "9abb225f-1762-4f05-fa38-ff24f87953f8",
        "colab": {
          "base_uri": "https://localhost:8080/"
        }
      },
      "execution_count": 3,
      "outputs": [
        {
          "output_type": "stream",
          "name": "stdout",
          "text": [
            "manzana\n",
            "banana\n",
            "cereza\n"
          ]
        }
      ]
    },
    {
      "cell_type": "markdown",
      "source": [
        "En este ejemplo, el bucle for recorre la lista de frutas e imprime cada una de ellas en una línea separada.\n",
        "\n",
        "Ejemplo 2: Iterando sobre un rango de valores"
      ],
      "metadata": {
        "id": "KZHiHBd1-XcR"
      }
    },
    {
      "cell_type": "code",
      "source": [
        "for i in range(5):\n",
        "    print(i)\n"
      ],
      "metadata": {
        "id": "yvMIaNDf-YB_",
        "outputId": "feb58d2d-40fb-4916-c01d-2a65167f3029",
        "colab": {
          "base_uri": "https://localhost:8080/"
        }
      },
      "execution_count": 4,
      "outputs": [
        {
          "output_type": "stream",
          "name": "stdout",
          "text": [
            "0\n",
            "1\n",
            "2\n",
            "3\n",
            "4\n"
          ]
        }
      ]
    },
    {
      "cell_type": "markdown",
      "source": [
        "En este ejemplo, el bucle for recorre un rango de valores del 0 al 4 (el número especificado en range es el límite superior, pero no está incluido) e imprime cada valor en una línea separada."
      ],
      "metadata": {
        "id": "zWINFhjB-aKq"
      }
    },
    {
      "cell_type": "markdown",
      "source": [
        "## 6. Colecciones de Datos\n",
        "\n",
        "Una **colección de datos** es una estructura que permite agrupar múltiples elementos en un solo objeto. Estas estructuras son fundamentales en programación porque permiten almacenar, organizar y manipular datos de manera eficiente. En Python, las colecciones de datos más comunes son listas, tuplas, diccionarios y conjuntos. Cada tipo de colección tiene sus propias características y usos particulares:\n",
        "\n",
        "- **Listas**: Son colecciones ordenadas y modificables. Permiten almacenar elementos de diferentes tipos y acceder a ellos mediante índices.\n",
        "- **Tuplas**: Son similares a las listas, pero son inmutables. Una vez creadas, no se pueden modificar. Se utilizan cuando se necesita una secuencia de elementos que no debe cambiar.\n",
        "- **Diccionarios**: Son colecciones no ordenadas de pares clave-valor. Permiten una búsqueda rápida de valores basados en sus claves.\n",
        "- **Conjuntos**: Son colecciones no ordenadas de elementos únicos. Son útiles para realizar operaciones matemáticas como unión, intersección y diferencia.\n",
        "\n",
        "Las colecciones de datos son esenciales para gestionar grandes cantidades de datos, realizar operaciones repetitivas y organizar la información de manera lógica y eficiente en un programa.\n",
        "\n",
        "### 6.1 Listas\n",
        "Una *lista* es una colección ordenada y modificable de elementos en Python. Podemos pensar en ella como una secuencia de elementos separados por comas y encerrados entre corchetes [].\n",
        "\n",
        "Las listas son útiles cuando necesitemos una colección de elementos que podamos modificar, ordenar y acceder individualmente.\n",
        "\n",
        "Ejemplo: Lista de Números"
      ],
      "metadata": {
        "id": "uGaP4K_Q-luu"
      }
    },
    {
      "cell_type": "code",
      "source": [
        "numeros = [1, 2, 3, 4, 5]\n",
        "print(numeros)\n",
        "\n",
        "# Agregar un elemento al final de la lista\n",
        "numeros.append(6)\n",
        "print(numeros)\n",
        "\n",
        "# Insertar un elemento en una posición específica\n",
        "numeros.insert(2, 10)\n",
        "print(numeros)\n",
        "\n",
        "# Eliminar un elemento de la lista\n",
        "numeros.remove(3)\n",
        "print(numeros)\n",
        "\n",
        "# Ordenar la lista\n",
        "numeros.sort()\n",
        "print(numeros)\n"
      ],
      "metadata": {
        "id": "4sBw2j86_d9r",
        "outputId": "9a268bdd-303d-4746-e3aa-439dfe248536",
        "colab": {
          "base_uri": "https://localhost:8080/"
        }
      },
      "execution_count": 5,
      "outputs": [
        {
          "output_type": "stream",
          "name": "stdout",
          "text": [
            "[1, 2, 3, 4, 5]\n",
            "[1, 2, 3, 4, 5, 6]\n",
            "[1, 2, 10, 3, 4, 5, 6]\n",
            "[1, 2, 10, 4, 5, 6]\n",
            "[1, 2, 4, 5, 6, 10]\n"
          ]
        }
      ]
    },
    {
      "cell_type": "markdown",
      "source": [
        "### 6.2 Tuplas\n",
        "Una *tupla* es similar a una lista, pero es inmutable, lo que significa que no podemos modificar su contenido después de crearla. Se define utilizando paréntesis () en lugar de corchetes [].\n",
        "\n",
        "Las tuplas son útiles cuando necesitamos una colección de elementos que no deban cambiar, como las coordenadas geográficas.\n",
        "\n",
        "Ejemplo: Tupla de Coordenadas"
      ],
      "metadata": {
        "id": "MYdEPldQ_iGv"
      }
    },
    {
      "cell_type": "code",
      "source": [
        "coordenadas = (40.7128, -74.0060)\n",
        "print(coordenadas)\n"
      ],
      "metadata": {
        "id": "f43mNJkZA4mf",
        "outputId": "45bb0184-ce6f-4a05-a36f-ca751e98eca1",
        "colab": {
          "base_uri": "https://localhost:8080/"
        }
      },
      "execution_count": 6,
      "outputs": [
        {
          "output_type": "stream",
          "name": "stdout",
          "text": [
            "(40.7128, -74.006)\n"
          ]
        }
      ]
    },
    {
      "cell_type": "markdown",
      "source": [
        "### 6.3 Diccionarios\n",
        "Un *diccionario* es una colección no ordenada y modificable de pares clave-valor en Python. Cada elemento en un diccionario está formado por una clave única y su correspondiente valor, separados por dos puntos : y encerrados entre llaves {}.\n",
        "\n",
        "Los diccionarios son útiles cuando necesitamos asociar valores con claves únicas para realizar búsquedas eficientes.\n",
        "\n",
        "Ejemplo: Diccionario de Contactos"
      ],
      "metadata": {
        "id": "tXM3r9nHA7si"
      }
    },
    {
      "cell_type": "code",
      "source": [
        "contactos = {\n",
        "    \"Juan\": 123456789,\n",
        "    \"María\": 987654321,\n",
        "    \"Pedro\": 456789123\n",
        "}\n",
        "print(contactos)\n",
        "\n",
        "# Acceder al valor de una clave\n",
        "telefono_juan = contactos[\"Juan\"]\n",
        "print(\"Teléfono de Juan:\", telefono_juan)\n",
        "\n",
        "# Agregar una nueva entrada al diccionario\n",
        "contactos[\"Ana\"] = 654321987\n",
        "print(contactos)\n",
        "\n",
        "# Eliminar una entrada del diccionario\n",
        "del contactos[\"Pedro\"]\n",
        "print(contactos)\n"
      ],
      "metadata": {
        "id": "69fdVqUmBF3i",
        "outputId": "c6271c67-e989-420d-8759-a71d0230e165",
        "colab": {
          "base_uri": "https://localhost:8080/"
        }
      },
      "execution_count": 7,
      "outputs": [
        {
          "output_type": "stream",
          "name": "stdout",
          "text": [
            "{'Juan': 123456789, 'María': 987654321, 'Pedro': 456789123}\n",
            "Teléfono de Juan: 123456789\n",
            "{'Juan': 123456789, 'María': 987654321, 'Pedro': 456789123, 'Ana': 654321987}\n",
            "{'Juan': 123456789, 'María': 987654321, 'Ana': 654321987}\n"
          ]
        }
      ]
    },
    {
      "cell_type": "markdown",
      "source": [
        "### 6.4 Conjuntos\n",
        "Un *conjunto* es una colección no ordenada y sin elementos duplicados en Python. Se define utilizando llaves {} o la función set().\n",
        "\n",
        "Los conjuntos son útiles cuando necesitamos realizar operaciones de conjuntos como unión, intersección y diferencia.\n",
        "\n",
        "Ejemplo: Conjunto de Colores"
      ],
      "metadata": {
        "id": "FNt-1gyABK-_"
      }
    },
    {
      "cell_type": "code",
      "source": [
        "colores = {\"rojo\", \"verde\", \"azul\"}\n",
        "print(colores)\n",
        "\n",
        "# Agregar un elemento al conjunto\n",
        "colores.add(\"amarillo\")\n",
        "print(colores)\n",
        "\n",
        "# Eliminar un elemento del conjunto\n",
        "colores.remove(\"verde\")\n",
        "print(colores)\n"
      ],
      "metadata": {
        "id": "gddlmYb8BT0f",
        "outputId": "564de1ef-93d7-4152-f4c5-f099dbf107fe",
        "colab": {
          "base_uri": "https://localhost:8080/"
        }
      },
      "execution_count": 8,
      "outputs": [
        {
          "output_type": "stream",
          "name": "stdout",
          "text": [
            "{'rojo', 'verde', 'azul'}\n",
            "{'rojo', 'verde', 'azul', 'amarillo'}\n",
            "{'rojo', 'azul', 'amarillo'}\n"
          ]
        }
      ]
    },
    {
      "cell_type": "markdown",
      "source": [
        "Ejemplo: Conjunto de Números"
      ],
      "metadata": {
        "id": "zmQkfmPfBWVM"
      }
    },
    {
      "cell_type": "code",
      "source": [
        "numeros = set([1, 2, 3, 4, 5])\n",
        "print(numeros)\n",
        "\n",
        "# Verificar si un elemento está presente en el conjunto\n",
        "print(3 in numeros)\n",
        "\n",
        "# Calcular la intersección con otro conjunto\n",
        "otros_numeros = {3, 4, 5, 6, 7}\n",
        "interseccion = numeros.intersection(otros_numeros)\n",
        "print(interseccion)\n"
      ],
      "metadata": {
        "id": "YatBarUQBZJB",
        "outputId": "8995ac07-1812-4c01-f70d-a2cfa6e846a0",
        "colab": {
          "base_uri": "https://localhost:8080/"
        }
      },
      "execution_count": 9,
      "outputs": [
        {
          "output_type": "stream",
          "name": "stdout",
          "text": [
            "{1, 2, 3, 4, 5}\n",
            "True\n",
            "{3, 4, 5}\n"
          ]
        }
      ]
    },
    {
      "cell_type": "markdown",
      "source": [
        "#Ejercicios propuestos de este bloque\n",
        "\n",
        "A continuación, se proponen una serie de ejercicios para afianzar los conceptos adquiridos:\n",
        "\n",
        "1. **Sumar elementos de una lista**: Escribe un programa que calcule la suma de todos los elementos en una lista de números.\n",
        "2. **Promedio de una lista**: Crea un programa que calcule el promedio de una lista de números ingresada por el usuario.\n",
        "3. **Contar palabras en una lista**: Escribe un programa que cuente cuántas veces aparece cada palabra en una lista de palabras.\n",
        "4. **Eliminar duplicados de una lista**: Crea un programa que elimine los elementos duplicados de una lista.\n",
        "5. **Acceder a elementos en un diccionario**: Escribe un programa que solicite al usuario nombres y números de teléfono para llenar un diccionario. Luego permite al usuario buscar un número de teléfono ingresando el nombre.\n",
        "6. **Intersección de dos conjuntos**: Crea un programa que calcule la intersección de dos conjuntos de números ingresados por el usuario.\n",
        "7. **Generar una lista de números pares**: Escribe un programa que genere una lista de números pares del 1 al 100 usando un bucle for.\n",
        "8. **Sumar valores en un diccionario**: Crea un programa que sume los valores de todos los elementos en un diccionario.\n",
        "9. **Buscar el elemento más grande en una lista**: Escribe un programa que encuentre el elemento más grande en una lista de números.\n",
        "10. **Ordenar una lista de tuplas por el segundo elemento**: Crea un programa que ordene una lista de tuplas por el segundo elemento de cada tupla.\n"
      ],
      "metadata": {
        "id": "hqe5J8plBaf7"
      }
    }
  ]
}